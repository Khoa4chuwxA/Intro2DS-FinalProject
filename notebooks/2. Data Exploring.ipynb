{
 "cells": [
  {
   "cell_type": "markdown",
   "metadata": {},
   "source": [
    "<div style=\"text-align: center; background-color: #0A6EBD; font-family: 'Trebuchet MS', Arial, sans-serif; color: white; padding: 40px; font-size: 30px; font-weight: bold; border-radius: 0 0 0 0; box-shadow: 0px 6px 8px rgba(0, 0, 0, 0.2);\">\n",
    "  Final Lab - Introduction To Data Science @ FIT-HCMUS, VNU-HCM\n",
    "</div>"
   ]
  },
  {
   "cell_type": "markdown",
   "metadata": {},
   "source": [
    "<div style=\"text-align: center; background-color: #5A96E3; font-family: 'Trebuchet MS', Arial, sans-serif; color: white; padding: 20px; font-size: 30px; font-weight: bold; border-radius: 0 0 0 0; box-shadow: 0px 6px 8px rgba(0, 0, 0, 0.2);\">\n",
    "  Stage 02 - Data exploring\n",
    "</div>"
   ]
  },
  {
   "cell_type": "markdown",
   "metadata": {},
   "source": [
    "## 1. Import"
   ]
  },
  {
   "cell_type": "code",
   "execution_count": 35,
   "metadata": {},
   "outputs": [],
   "source": [
    "import numpy as np\n",
    "import pandas as pd"
   ]
  },
  {
   "cell_type": "markdown",
   "metadata": {},
   "source": [
    "## 2. Exploring data"
   ]
  },
  {
   "cell_type": "markdown",
   "metadata": {},
   "source": [
    "### Read raw data from file"
   ]
  },
  {
   "cell_type": "code",
   "execution_count": 36,
   "metadata": {},
   "outputs": [
    {
     "data": {
      "text/html": [
       "<div>\n",
       "<style scoped>\n",
       "    .dataframe tbody tr th:only-of-type {\n",
       "        vertical-align: middle;\n",
       "    }\n",
       "\n",
       "    .dataframe tbody tr th {\n",
       "        vertical-align: top;\n",
       "    }\n",
       "\n",
       "    .dataframe thead th {\n",
       "        text-align: right;\n",
       "    }\n",
       "</style>\n",
       "<table border=\"1\" class=\"dataframe\">\n",
       "  <thead>\n",
       "    <tr style=\"text-align: right;\">\n",
       "      <th></th>\n",
       "      <th>Riot Games Name</th>\n",
       "      <th>Riot Games Tag Line</th>\n",
       "      <th>Summoner Level</th>\n",
       "      <th>Summoner Id</th>\n",
       "      <th>Summoner Name</th>\n",
       "      <th>Summoner Points</th>\n",
       "      <th>Summoner Rank</th>\n",
       "      <th>Summoner Wins</th>\n",
       "      <th>Summoner Losses</th>\n",
       "      <th>Is Veteran?</th>\n",
       "      <th>Is Inactive?</th>\n",
       "      <th>Is Fresh Blood?</th>\n",
       "      <th>Is Hot Streak?</th>\n",
       "      <th>Summoner Tier</th>\n",
       "    </tr>\n",
       "  </thead>\n",
       "  <tbody>\n",
       "    <tr>\n",
       "      <th>0</th>\n",
       "      <td>Victorious</td>\n",
       "      <td>HLG</td>\n",
       "      <td>762</td>\n",
       "      <td>rY978LAxHRRBj8Y7Bf_QEMXiQZ8trR2GJW-NS9Rpsk72azA-G98u9vIghg</td>\n",
       "      <td>HLG Victorious</td>\n",
       "      <td>602</td>\n",
       "      <td>I</td>\n",
       "      <td>122</td>\n",
       "      <td>87</td>\n",
       "      <td>False</td>\n",
       "      <td>False</td>\n",
       "      <td>True</td>\n",
       "      <td>False</td>\n",
       "      <td>Challenger</td>\n",
       "    </tr>\n",
       "    <tr>\n",
       "      <th>1</th>\n",
       "      <td>mikej</td>\n",
       "      <td>VN2</td>\n",
       "      <td>221</td>\n",
       "      <td>5zFlRLcJb7MgSFht8_a2c9XPSEU1_WKJsLLSdBcZdqtMs5v9q97oL9GYhQ</td>\n",
       "      <td>mikej</td>\n",
       "      <td>703</td>\n",
       "      <td>I</td>\n",
       "      <td>231</td>\n",
       "      <td>185</td>\n",
       "      <td>False</td>\n",
       "      <td>False</td>\n",
       "      <td>True</td>\n",
       "      <td>False</td>\n",
       "      <td>Challenger</td>\n",
       "    </tr>\n",
       "    <tr>\n",
       "      <th>2</th>\n",
       "      <td>Duy Pingboda</td>\n",
       "      <td>9999</td>\n",
       "      <td>27</td>\n",
       "      <td>cePM-S7ZzR-HtHClRmVaw46tVSyXImYZ8t0JgeK04ulxOZ-SfpebnlqREw</td>\n",
       "      <td>H2B DoubleA</td>\n",
       "      <td>704</td>\n",
       "      <td>I</td>\n",
       "      <td>122</td>\n",
       "      <td>83</td>\n",
       "      <td>False</td>\n",
       "      <td>False</td>\n",
       "      <td>True</td>\n",
       "      <td>False</td>\n",
       "      <td>Challenger</td>\n",
       "    </tr>\n",
       "    <tr>\n",
       "      <th>3</th>\n",
       "      <td>Top1GamingTopTop</td>\n",
       "      <td>6789</td>\n",
       "      <td>1</td>\n",
       "      <td>lKv7DpczM6V21FMjCfbwVzaDFkPu-v27vPfb6o4hBAQna28AcToJPzs5gQ</td>\n",
       "      <td>TikTokTop1Gaming</td>\n",
       "      <td>613</td>\n",
       "      <td>I</td>\n",
       "      <td>115</td>\n",
       "      <td>81</td>\n",
       "      <td>False</td>\n",
       "      <td>False</td>\n",
       "      <td>True</td>\n",
       "      <td>False</td>\n",
       "      <td>Challenger</td>\n",
       "    </tr>\n",
       "    <tr>\n",
       "      <th>4</th>\n",
       "      <td>kobisao</td>\n",
       "      <td>VN2</td>\n",
       "      <td>380</td>\n",
       "      <td>TVO29WY8nCcAW0d6fFQR8ANek9PPxvGQmy9CRtrFjamTk0DJb1KRy7mnIg</td>\n",
       "      <td>kobisao</td>\n",
       "      <td>540</td>\n",
       "      <td>I</td>\n",
       "      <td>82</td>\n",
       "      <td>45</td>\n",
       "      <td>False</td>\n",
       "      <td>False</td>\n",
       "      <td>True</td>\n",
       "      <td>False</td>\n",
       "      <td>Challenger</td>\n",
       "    </tr>\n",
       "  </tbody>\n",
       "</table>\n",
       "</div>"
      ],
      "text/plain": [
       "    Riot Games Name Riot Games Tag Line  Summoner Level  \\\n",
       "0        Victorious                 HLG             762   \n",
       "1             mikej                 VN2             221   \n",
       "2      Duy Pingboda                9999              27   \n",
       "3  Top1GamingTopTop                6789               1   \n",
       "4           kobisao                 VN2             380   \n",
       "\n",
       "                                                  Summoner Id  \\\n",
       "0  rY978LAxHRRBj8Y7Bf_QEMXiQZ8trR2GJW-NS9Rpsk72azA-G98u9vIghg   \n",
       "1  5zFlRLcJb7MgSFht8_a2c9XPSEU1_WKJsLLSdBcZdqtMs5v9q97oL9GYhQ   \n",
       "2  cePM-S7ZzR-HtHClRmVaw46tVSyXImYZ8t0JgeK04ulxOZ-SfpebnlqREw   \n",
       "3  lKv7DpczM6V21FMjCfbwVzaDFkPu-v27vPfb6o4hBAQna28AcToJPzs5gQ   \n",
       "4  TVO29WY8nCcAW0d6fFQR8ANek9PPxvGQmy9CRtrFjamTk0DJb1KRy7mnIg   \n",
       "\n",
       "      Summoner Name  Summoner Points Summoner Rank  Summoner Wins  \\\n",
       "0    HLG Victorious              602             I            122   \n",
       "1             mikej              703             I            231   \n",
       "2       H2B DoubleA              704             I            122   \n",
       "3  TikTokTop1Gaming              613             I            115   \n",
       "4           kobisao              540             I             82   \n",
       "\n",
       "   Summoner Losses  Is Veteran?  Is Inactive?  Is Fresh Blood?  \\\n",
       "0               87        False         False             True   \n",
       "1              185        False         False             True   \n",
       "2               83        False         False             True   \n",
       "3               81        False         False             True   \n",
       "4               45        False         False             True   \n",
       "\n",
       "   Is Hot Streak? Summoner Tier  \n",
       "0           False    Challenger  \n",
       "1           False    Challenger  \n",
       "2           False    Challenger  \n",
       "3           False    Challenger  \n",
       "4           False    Challenger  "
      ]
     },
     "execution_count": 36,
     "metadata": {},
     "output_type": "execute_result"
    }
   ],
   "source": [
    "raw_tft_df = pd.read_csv('../data/raw/Group25_TFT.csv')\n",
    "raw_tft_df.head()"
   ]
  },
  {
   "cell_type": "markdown",
   "metadata": {},
   "source": [
    "### Remove the column with unknown meaning"
   ]
  },
  {
   "cell_type": "markdown",
   "metadata": {},
   "source": [
    "Currently, we do not have sufficient information on the `Is Fresh Blood?` attribute in this dataset. Therefore, we will temporarily remove it until we understand its meaning."
   ]
  },
  {
   "cell_type": "code",
   "execution_count": 37,
   "metadata": {},
   "outputs": [],
   "source": [
    "raw_tft_df = raw_tft_df.drop(columns=['Is Fresh Blood?'])"
   ]
  },
  {
   "cell_type": "markdown",
   "metadata": {},
   "source": [
    "### Remove unimportant columns"
   ]
  },
  {
   "cell_type": "markdown",
   "metadata": {},
   "source": [
    "In this data set, we can remove the attribute `Summoner Name` since they are quite similar to `Summoner Riot Games Name`. Additionally, it is not worth discovering `Summoner Id` and `Summoner Rank`."
   ]
  },
  {
   "cell_type": "code",
   "execution_count": 38,
   "metadata": {},
   "outputs": [
    {
     "data": {
      "text/html": [
       "<div>\n",
       "<style scoped>\n",
       "    .dataframe tbody tr th:only-of-type {\n",
       "        vertical-align: middle;\n",
       "    }\n",
       "\n",
       "    .dataframe tbody tr th {\n",
       "        vertical-align: top;\n",
       "    }\n",
       "\n",
       "    .dataframe thead th {\n",
       "        text-align: right;\n",
       "    }\n",
       "</style>\n",
       "<table border=\"1\" class=\"dataframe\">\n",
       "  <thead>\n",
       "    <tr style=\"text-align: right;\">\n",
       "      <th></th>\n",
       "      <th>Riot Games Name</th>\n",
       "      <th>Summoner Name</th>\n",
       "    </tr>\n",
       "  </thead>\n",
       "  <tbody>\n",
       "    <tr>\n",
       "      <th>0</th>\n",
       "      <td>Victorious</td>\n",
       "      <td>HLG Victorious</td>\n",
       "    </tr>\n",
       "    <tr>\n",
       "      <th>1</th>\n",
       "      <td>mikej</td>\n",
       "      <td>mikej</td>\n",
       "    </tr>\n",
       "    <tr>\n",
       "      <th>2</th>\n",
       "      <td>Duy Pingboda</td>\n",
       "      <td>H2B DoubleA</td>\n",
       "    </tr>\n",
       "    <tr>\n",
       "      <th>3</th>\n",
       "      <td>Top1GamingTopTop</td>\n",
       "      <td>TikTokTop1Gaming</td>\n",
       "    </tr>\n",
       "    <tr>\n",
       "      <th>4</th>\n",
       "      <td>kobisao</td>\n",
       "      <td>kobisao</td>\n",
       "    </tr>\n",
       "    <tr>\n",
       "      <th>5</th>\n",
       "      <td>Tôn Hiền</td>\n",
       "      <td>Tôn Hiền</td>\n",
       "    </tr>\n",
       "    <tr>\n",
       "      <th>6</th>\n",
       "      <td>Better version</td>\n",
       "      <td>Better version08</td>\n",
       "    </tr>\n",
       "    <tr>\n",
       "      <th>7</th>\n",
       "      <td>ThomasK21700</td>\n",
       "      <td>NaN</td>\n",
       "    </tr>\n",
       "    <tr>\n",
       "      <th>8</th>\n",
       "      <td>Vô Ám Giả</td>\n",
       "      <td>Vô Ám Giå</td>\n",
       "    </tr>\n",
       "    <tr>\n",
       "      <th>9</th>\n",
       "      <td>HP AnhTu</td>\n",
       "      <td>T1 AnhTu HP</td>\n",
       "    </tr>\n",
       "  </tbody>\n",
       "</table>\n",
       "</div>"
      ],
      "text/plain": [
       "    Riot Games Name     Summoner Name\n",
       "0        Victorious    HLG Victorious\n",
       "1             mikej             mikej\n",
       "2      Duy Pingboda       H2B DoubleA\n",
       "3  Top1GamingTopTop  TikTokTop1Gaming\n",
       "4           kobisao           kobisao\n",
       "5          Tôn Hiền          Tôn Hiền\n",
       "6    Better version  Better version08\n",
       "7      ThomasK21700               NaN\n",
       "8         Vô Ám Giả         Vô Ám Giå\n",
       "9          HP AnhTu       T1 AnhTu HP"
      ]
     },
     "execution_count": 38,
     "metadata": {},
     "output_type": "execute_result"
    }
   ],
   "source": [
    "raw_tft_df[['Riot Games Name', 'Summoner Name']].head(10)"
   ]
  },
  {
   "cell_type": "code",
   "execution_count": 39,
   "metadata": {},
   "outputs": [
    {
     "data": {
      "text/plain": [
       "0    rY978LAxHRRBj8Y7Bf_QEMXiQZ8trR2GJW-NS9Rpsk72azA-G98u9vIghg\n",
       "1    5zFlRLcJb7MgSFht8_a2c9XPSEU1_WKJsLLSdBcZdqtMs5v9q97oL9GYhQ\n",
       "2    cePM-S7ZzR-HtHClRmVaw46tVSyXImYZ8t0JgeK04ulxOZ-SfpebnlqREw\n",
       "3    lKv7DpczM6V21FMjCfbwVzaDFkPu-v27vPfb6o4hBAQna28AcToJPzs5gQ\n",
       "4    TVO29WY8nCcAW0d6fFQR8ANek9PPxvGQmy9CRtrFjamTk0DJb1KRy7mnIg\n",
       "5    V6QpZgyHIqjVIs75_T4Dt_Lz_fekOhQtsx5kwix4b8ZhPsmvuh_GvicdeA\n",
       "6    oWai27K_N0ADtH0wND1NcaVaSusuNjHQicxJiiGtrR2XJ19IDonnuv0_vQ\n",
       "7    ejcBGJM9sm_VHMhDCNRsqlGUAcQLGDdBlKWYT089a3PxgvxYhDgpdvcrZg\n",
       "8    fka_OYewvQkYADYFIMoL0woQ4Y-jANSXAc2MC_Aunm9ARiWeE0AlBFsZ3Q\n",
       "9    zysYNkg2pptETBt-FxHGiOkLzwZjtmBZEWpS2FYQw1MVU023_ODoa9DLLg\n",
       "Name: Summoner Id, dtype: object"
      ]
     },
     "execution_count": 39,
     "metadata": {},
     "output_type": "execute_result"
    }
   ],
   "source": [
    "raw_tft_df['Summoner Id'].head(10)"
   ]
  },
  {
   "cell_type": "code",
   "execution_count": 40,
   "metadata": {},
   "outputs": [
    {
     "data": {
      "text/plain": [
       "Summoner Rank\n",
       "I    1350\n",
       "Name: count, dtype: int64"
      ]
     },
     "execution_count": 40,
     "metadata": {},
     "output_type": "execute_result"
    }
   ],
   "source": [
    "raw_tft_df['Summoner Rank'].value_counts()"
   ]
  },
  {
   "cell_type": "code",
   "execution_count": 41,
   "metadata": {},
   "outputs": [
    {
     "data": {
      "text/html": [
       "<div>\n",
       "<style scoped>\n",
       "    .dataframe tbody tr th:only-of-type {\n",
       "        vertical-align: middle;\n",
       "    }\n",
       "\n",
       "    .dataframe tbody tr th {\n",
       "        vertical-align: top;\n",
       "    }\n",
       "\n",
       "    .dataframe thead th {\n",
       "        text-align: right;\n",
       "    }\n",
       "</style>\n",
       "<table border=\"1\" class=\"dataframe\">\n",
       "  <thead>\n",
       "    <tr style=\"text-align: right;\">\n",
       "      <th></th>\n",
       "      <th>Riot Games Name</th>\n",
       "      <th>Riot Games Tag Line</th>\n",
       "      <th>Summoner Level</th>\n",
       "      <th>Summoner Points</th>\n",
       "      <th>Summoner Wins</th>\n",
       "      <th>Summoner Losses</th>\n",
       "      <th>Is Veteran?</th>\n",
       "      <th>Is Inactive?</th>\n",
       "      <th>Is Hot Streak?</th>\n",
       "      <th>Summoner Tier</th>\n",
       "    </tr>\n",
       "  </thead>\n",
       "  <tbody>\n",
       "    <tr>\n",
       "      <th>0</th>\n",
       "      <td>Victorious</td>\n",
       "      <td>HLG</td>\n",
       "      <td>762</td>\n",
       "      <td>602</td>\n",
       "      <td>122</td>\n",
       "      <td>87</td>\n",
       "      <td>False</td>\n",
       "      <td>False</td>\n",
       "      <td>False</td>\n",
       "      <td>Challenger</td>\n",
       "    </tr>\n",
       "    <tr>\n",
       "      <th>1</th>\n",
       "      <td>mikej</td>\n",
       "      <td>VN2</td>\n",
       "      <td>221</td>\n",
       "      <td>703</td>\n",
       "      <td>231</td>\n",
       "      <td>185</td>\n",
       "      <td>False</td>\n",
       "      <td>False</td>\n",
       "      <td>False</td>\n",
       "      <td>Challenger</td>\n",
       "    </tr>\n",
       "    <tr>\n",
       "      <th>2</th>\n",
       "      <td>Duy Pingboda</td>\n",
       "      <td>9999</td>\n",
       "      <td>27</td>\n",
       "      <td>704</td>\n",
       "      <td>122</td>\n",
       "      <td>83</td>\n",
       "      <td>False</td>\n",
       "      <td>False</td>\n",
       "      <td>False</td>\n",
       "      <td>Challenger</td>\n",
       "    </tr>\n",
       "    <tr>\n",
       "      <th>3</th>\n",
       "      <td>Top1GamingTopTop</td>\n",
       "      <td>6789</td>\n",
       "      <td>1</td>\n",
       "      <td>613</td>\n",
       "      <td>115</td>\n",
       "      <td>81</td>\n",
       "      <td>False</td>\n",
       "      <td>False</td>\n",
       "      <td>False</td>\n",
       "      <td>Challenger</td>\n",
       "    </tr>\n",
       "    <tr>\n",
       "      <th>4</th>\n",
       "      <td>kobisao</td>\n",
       "      <td>VN2</td>\n",
       "      <td>380</td>\n",
       "      <td>540</td>\n",
       "      <td>82</td>\n",
       "      <td>45</td>\n",
       "      <td>False</td>\n",
       "      <td>False</td>\n",
       "      <td>False</td>\n",
       "      <td>Challenger</td>\n",
       "    </tr>\n",
       "  </tbody>\n",
       "</table>\n",
       "</div>"
      ],
      "text/plain": [
       "    Riot Games Name Riot Games Tag Line  Summoner Level  Summoner Points  \\\n",
       "0        Victorious                 HLG             762              602   \n",
       "1             mikej                 VN2             221              703   \n",
       "2      Duy Pingboda                9999              27              704   \n",
       "3  Top1GamingTopTop                6789               1              613   \n",
       "4           kobisao                 VN2             380              540   \n",
       "\n",
       "   Summoner Wins  Summoner Losses  Is Veteran?  Is Inactive?  Is Hot Streak?  \\\n",
       "0            122               87        False         False           False   \n",
       "1            231              185        False         False           False   \n",
       "2            122               83        False         False           False   \n",
       "3            115               81        False         False           False   \n",
       "4             82               45        False         False           False   \n",
       "\n",
       "  Summoner Tier  \n",
       "0    Challenger  \n",
       "1    Challenger  \n",
       "2    Challenger  \n",
       "3    Challenger  \n",
       "4    Challenger  "
      ]
     },
     "execution_count": 41,
     "metadata": {},
     "output_type": "execute_result"
    }
   ],
   "source": [
    "raw_tft_df = raw_tft_df.drop(columns=['Summoner Id', 'Summoner Name', 'Summoner Rank'])\n",
    "raw_tft_df.head()"
   ]
  },
  {
   "cell_type": "markdown",
   "metadata": {},
   "source": [
    "### Calculate the number of rows and columns"
   ]
  },
  {
   "cell_type": "code",
   "execution_count": 42,
   "metadata": {},
   "outputs": [
    {
     "name": "stdout",
     "output_type": "stream",
     "text": [
      "Number of rows: 1350\n",
      "Number of columns: 10\n"
     ]
    }
   ],
   "source": [
    "num_rows, num_cols = raw_tft_df.shape\n",
    "print(f'Number of rows: {num_rows}\\nNumber of columns: {num_cols}')"
   ]
  },
  {
   "cell_type": "markdown",
   "metadata": {},
   "source": [
    "### Calculate the duplicate rows "
   ]
  },
  {
   "cell_type": "code",
   "execution_count": 43,
   "metadata": {},
   "outputs": [
    {
     "name": "stdout",
     "output_type": "stream",
     "text": [
      "Number of duplicated rows: 0\n"
     ]
    }
   ],
   "source": [
    "num_duplicated_rows = raw_tft_df.duplicated().sum()\n",
    "print(f'Number of duplicated rows: {num_duplicated_rows}')"
   ]
  },
  {
   "cell_type": "markdown",
   "metadata": {},
   "source": [
    "### The meaning of each line"
   ]
  },
  {
   "cell_type": "markdown",
   "metadata": {},
   "source": [
    "The following data pertains to players ranked as Grandmaster and Challenger in TFT games. Each line in this data set corresponds to information about an account in the TFT game, including attributes such as Riot games account name, account level, account score, number of wins, number of losses, player experience, activity status, is in streak, fresh blood, account rank."
   ]
  },
  {
   "cell_type": "markdown",
   "metadata": {},
   "source": [
    "### The meaning of each column"
   ]
  },
  {
   "cell_type": "markdown",
   "metadata": {},
   "source": [
    "| Name | Meaning |\n",
    "|---|---|\n",
    "| Summoner Riot Games Name | Riot Games account name |\n",
    "| Summoner Riot Games Tag Line | A hashtag that consists of three-to-five letters or numbers. |\n",
    "| Summoner Level | Account level |\n",
    "| Summoner Points | Ranked point |\n",
    "| Summoner Win | Number of wins |\n",
    "| Summoner Lossed | Number of defeats |\n",
    "| Is Veteran? | Has this account been playing for a long time? |\n",
    "| Is inactive? | Is this account inactive? |\n",
    "| Is Hot Streak | Is this account on a streak? |\n",
    "| Summoner Tier | Account's ranking tier |"
   ]
  },
  {
   "cell_type": "markdown",
   "metadata": {},
   "source": [
    "### Data type of each column"
   ]
  },
  {
   "cell_type": "code",
   "execution_count": 44,
   "metadata": {},
   "outputs": [
    {
     "data": {
      "text/plain": [
       "Riot Games Name        object\n",
       "Riot Games Tag Line    object\n",
       "Summoner Level          int64\n",
       "Summoner Points         int64\n",
       "Summoner Wins           int64\n",
       "Summoner Losses         int64\n",
       "Is Veteran?              bool\n",
       "Is Inactive?             bool\n",
       "Is Hot Streak?           bool\n",
       "Summoner Tier          object\n",
       "dtype: object"
      ]
     },
     "execution_count": 44,
     "metadata": {},
     "output_type": "execute_result"
    }
   ],
   "source": [
    "dtypes = raw_tft_df.dtypes\n",
    "dtypes"
   ]
  },
  {
   "cell_type": "markdown",
   "metadata": {},
   "source": [
    "- Regarding data type, the properties of this data set are in the appropriate format."
   ]
  },
  {
   "cell_type": "markdown",
   "metadata": {},
   "source": [
    "### Find the missing values of each column"
   ]
  },
  {
   "cell_type": "code",
   "execution_count": 45,
   "metadata": {},
   "outputs": [
    {
     "data": {
      "text/plain": [
       "Riot Games Name        0.0\n",
       "Riot Games Tag Line    0.0\n",
       "Summoner Level         0.0\n",
       "Summoner Points        0.0\n",
       "Summoner Wins          0.0\n",
       "Summoner Losses        0.0\n",
       "Is Veteran?            0.0\n",
       "Is Inactive?           0.0\n",
       "Is Hot Streak?         0.0\n",
       "Summoner Tier          0.0\n",
       "dtype: float64"
      ]
     },
     "execution_count": 45,
     "metadata": {},
     "output_type": "execute_result"
    }
   ],
   "source": [
    "missing_ratio = (raw_tft_df.isna().sum() / num_rows) * 100\n",
    "missing_ratio"
   ]
  },
  {
   "cell_type": "markdown",
   "metadata": {},
   "source": [
    "- There are no missing values in this data set."
   ]
  },
  {
   "cell_type": "markdown",
   "metadata": {},
   "source": [
    "### Observe how values are distributed in each column with numeric data type"
   ]
  },
  {
   "cell_type": "markdown",
   "metadata": {},
   "source": [
    "For columns with numeric data type, we will calculate:\n",
    "- Percentage (from 0 to 100) of missing values\n",
    "- The min\n",
    "- The lower quartile \n",
    "- The median\n",
    "- The upper quartile\n",
    "- The max\n",
    "\n",
    "The results will be saved to a DataFrame `num_col_info_df`.\n"
   ]
  },
  {
   "cell_type": "code",
   "execution_count": 46,
   "metadata": {},
   "outputs": [
    {
     "data": {
      "text/html": [
       "<div>\n",
       "<style scoped>\n",
       "    .dataframe tbody tr th:only-of-type {\n",
       "        vertical-align: middle;\n",
       "    }\n",
       "\n",
       "    .dataframe tbody tr th {\n",
       "        vertical-align: top;\n",
       "    }\n",
       "\n",
       "    .dataframe thead th {\n",
       "        text-align: right;\n",
       "    }\n",
       "</style>\n",
       "<table border=\"1\" class=\"dataframe\">\n",
       "  <thead>\n",
       "    <tr style=\"text-align: right;\">\n",
       "      <th></th>\n",
       "      <th>Summoner Level</th>\n",
       "      <th>Summoner Points</th>\n",
       "      <th>Summoner Wins</th>\n",
       "      <th>Summoner Losses</th>\n",
       "    </tr>\n",
       "    <tr>\n",
       "      <th>Titles</th>\n",
       "      <th></th>\n",
       "      <th></th>\n",
       "      <th></th>\n",
       "      <th></th>\n",
       "    </tr>\n",
       "  </thead>\n",
       "  <tbody>\n",
       "    <tr>\n",
       "      <th>missing_ratio</th>\n",
       "      <td>0.00</td>\n",
       "      <td>0.0</td>\n",
       "      <td>0.0</td>\n",
       "      <td>0.0</td>\n",
       "    </tr>\n",
       "    <tr>\n",
       "      <th>min</th>\n",
       "      <td>1.00</td>\n",
       "      <td>214.0</td>\n",
       "      <td>45.0</td>\n",
       "      <td>11.0</td>\n",
       "    </tr>\n",
       "    <tr>\n",
       "      <th>lower_quartile</th>\n",
       "      <td>56.00</td>\n",
       "      <td>293.0</td>\n",
       "      <td>115.0</td>\n",
       "      <td>81.0</td>\n",
       "    </tr>\n",
       "    <tr>\n",
       "      <th>median</th>\n",
       "      <td>242.50</td>\n",
       "      <td>396.0</td>\n",
       "      <td>143.0</td>\n",
       "      <td>111.0</td>\n",
       "    </tr>\n",
       "    <tr>\n",
       "      <th>upper_quartile</th>\n",
       "      <td>426.75</td>\n",
       "      <td>554.0</td>\n",
       "      <td>183.0</td>\n",
       "      <td>146.0</td>\n",
       "    </tr>\n",
       "    <tr>\n",
       "      <th>max</th>\n",
       "      <td>1191.00</td>\n",
       "      <td>1806.0</td>\n",
       "      <td>350.0</td>\n",
       "      <td>310.0</td>\n",
       "    </tr>\n",
       "  </tbody>\n",
       "</table>\n",
       "</div>"
      ],
      "text/plain": [
       "                Summoner Level  Summoner Points  Summoner Wins  \\\n",
       "Titles                                                           \n",
       "missing_ratio             0.00              0.0            0.0   \n",
       "min                       1.00            214.0           45.0   \n",
       "lower_quartile           56.00            293.0          115.0   \n",
       "median                  242.50            396.0          143.0   \n",
       "upper_quartile          426.75            554.0          183.0   \n",
       "max                    1191.00           1806.0          350.0   \n",
       "\n",
       "                Summoner Losses  \n",
       "Titles                           \n",
       "missing_ratio               0.0  \n",
       "min                        11.0  \n",
       "lower_quartile             81.0  \n",
       "median                    111.0  \n",
       "upper_quartile            146.0  \n",
       "max                       310.0  "
      ]
     },
     "execution_count": 46,
     "metadata": {},
     "output_type": "execute_result"
    }
   ],
   "source": [
    "numeric_cols = raw_tft_df.select_dtypes(include=[np.number]).columns\n",
    "titles = [\"missing_ratio\", \"min\", \"lower_quartile\", \"median\", \"upper_quartile\", \"max\"]\n",
    "\n",
    "data = {}\n",
    "for col in numeric_cols:\n",
    "    missing_ratio = (raw_tft_df[col].isnull().sum() / len(raw_tft_df)) * 100\n",
    "    min_val = raw_tft_df[col].min()\n",
    "    lower_quartile = raw_tft_df[col].quantile(0.25)\n",
    "    median = raw_tft_df[col].median()\n",
    "    upper_quartile = raw_tft_df[col].quantile(0.75)\n",
    "    max_val = raw_tft_df[col].max()\n",
    "    \n",
    "    data[col] = [missing_ratio, min_val, lower_quartile, median, upper_quartile, max_val]\n",
    "\n",
    "data['Titles'] = titles\n",
    "num_col_info_df = pd.DataFrame(data).set_index('Titles')\n",
    "num_col_info_df"
   ]
  },
  {
   "cell_type": "markdown",
   "metadata": {},
   "source": [
    "### Observe how values are distributed in each column with non-numeric data type"
   ]
  },
  {
   "cell_type": "markdown",
   "metadata": {},
   "source": [
    "For columns with non-numeric data type, we will calculate:\n",
    "- Number of missing values.\n",
    "- Number of different values (not considering missing values).\n",
    "- Number of each value is sorted by decreasing (missing values are not considered): use a dictionary to store, key is the value, value is the number of value.\n",
    "\n",
    "The results will be saved to a DataFrame `cat_col_info_df`."
   ]
  },
  {
   "cell_type": "code",
   "execution_count": 47,
   "metadata": {},
   "outputs": [
    {
     "data": {
      "text/html": [
       "<div>\n",
       "<style scoped>\n",
       "    .dataframe tbody tr th:only-of-type {\n",
       "        vertical-align: middle;\n",
       "    }\n",
       "\n",
       "    .dataframe tbody tr th {\n",
       "        vertical-align: top;\n",
       "    }\n",
       "\n",
       "    .dataframe thead th {\n",
       "        text-align: right;\n",
       "    }\n",
       "</style>\n",
       "<table border=\"1\" class=\"dataframe\">\n",
       "  <thead>\n",
       "    <tr style=\"text-align: right;\">\n",
       "      <th></th>\n",
       "      <th>Riot Games Name</th>\n",
       "      <th>Riot Games Tag Line</th>\n",
       "      <th>Is Veteran?</th>\n",
       "      <th>Is Inactive?</th>\n",
       "      <th>Is Hot Streak?</th>\n",
       "      <th>Summoner Tier</th>\n",
       "    </tr>\n",
       "    <tr>\n",
       "      <th>Titles</th>\n",
       "      <th></th>\n",
       "      <th></th>\n",
       "      <th></th>\n",
       "      <th></th>\n",
       "      <th></th>\n",
       "      <th></th>\n",
       "    </tr>\n",
       "  </thead>\n",
       "  <tbody>\n",
       "    <tr>\n",
       "      <th>missing_ratio</th>\n",
       "      <td>0</td>\n",
       "      <td>0</td>\n",
       "      <td>0</td>\n",
       "      <td>0</td>\n",
       "      <td>0</td>\n",
       "      <td>0</td>\n",
       "    </tr>\n",
       "    <tr>\n",
       "      <th>num_values</th>\n",
       "      <td>1346</td>\n",
       "      <td>808</td>\n",
       "      <td>2</td>\n",
       "      <td>1</td>\n",
       "      <td>2</td>\n",
       "      <td>2</td>\n",
       "    </tr>\n",
       "    <tr>\n",
       "      <th>value_ratios</th>\n",
       "      <td>{'Bae Suzy': 2, 'Choncc': 2, 'Furina': 2, 'anhquan': 2, 'Victorious': 1, '16 dần dơ': 1, 'Cho XIn Tý Huyết': 1, 'XLR8': 1, 'vlogg': 1, 'ĐứcĐức': 1, 'Bé Bờm VN': 1, 'CoolParker': 1, 'crow': 1, 'L 03 10 04 NT': 1, 'PTM Crown': 1, 'Minh0111': 1, 'njhanniiii': 1, 'Lee Chunn': 1, 'anh da on hon': 1, ...</td>\n",
       "      <td>{'VN2': 299, '12345': 11, '1999': 9, '9999': 9, '2000': 9, '123': 8, '2003': 8, '1998': 8, '2001': 7, '2002': 7, '1234': 7, '2004': 7, '666': 6, '1997': 6, '6789': 6, '88888': 5, '999': 5, '1102': 4, 'VN3': 4, '99999': 4, 'VNM': 4, '8888': 4, '1811': 4, '1809': 4, '1412': 4, 'VN1': 4, '0910': 4,...</td>\n",
       "      <td>{False: 1267, True: 83}</td>\n",
       "      <td>{False: 1350}</td>\n",
       "      <td>{False: 989, True: 361}</td>\n",
       "      <td>{'Grandmaster': 900, 'Challenger': 450}</td>\n",
       "    </tr>\n",
       "  </tbody>\n",
       "</table>\n",
       "</div>"
      ],
      "text/plain": [
       "                                                                                                                                                                                                                                                                                                           Riot Games Name  \\\n",
       "Titles                                                                                                                                                                                                                                                                                                                       \n",
       "missing_ratio                                                                                                                                                                                                                                                                                                            0   \n",
       "num_values                                                                                                                                                                                                                                                                                                            1346   \n",
       "value_ratios   {'Bae Suzy': 2, 'Choncc': 2, 'Furina': 2, 'anhquan': 2, 'Victorious': 1, '16 dần dơ': 1, 'Cho XIn Tý Huyết': 1, 'XLR8': 1, 'vlogg': 1, 'ĐứcĐức': 1, 'Bé Bờm VN': 1, 'CoolParker': 1, 'crow': 1, 'L 03 10 04 NT': 1, 'PTM Crown': 1, 'Minh0111': 1, 'njhanniiii': 1, 'Lee Chunn': 1, 'anh da on hon': 1, ...   \n",
       "\n",
       "                                                                                                                                                                                                                                                                                                       Riot Games Tag Line  \\\n",
       "Titles                                                                                                                                                                                                                                                                                                                       \n",
       "missing_ratio                                                                                                                                                                                                                                                                                                            0   \n",
       "num_values                                                                                                                                                                                                                                                                                                             808   \n",
       "value_ratios   {'VN2': 299, '12345': 11, '1999': 9, '9999': 9, '2000': 9, '123': 8, '2003': 8, '1998': 8, '2001': 7, '2002': 7, '1234': 7, '2004': 7, '666': 6, '1997': 6, '6789': 6, '88888': 5, '999': 5, '1102': 4, 'VN3': 4, '99999': 4, 'VNM': 4, '8888': 4, '1811': 4, '1809': 4, '1412': 4, 'VN1': 4, '0910': 4,...   \n",
       "\n",
       "                           Is Veteran?   Is Inactive?  \\\n",
       "Titles                                                  \n",
       "missing_ratio                        0              0   \n",
       "num_values                           2              1   \n",
       "value_ratios   {False: 1267, True: 83}  {False: 1350}   \n",
       "\n",
       "                        Is Hot Streak?  \\\n",
       "Titles                                   \n",
       "missing_ratio                        0   \n",
       "num_values                           2   \n",
       "value_ratios   {False: 989, True: 361}   \n",
       "\n",
       "                                         Summoner Tier  \n",
       "Titles                                                  \n",
       "missing_ratio                                        0  \n",
       "num_values                                           2  \n",
       "value_ratios   {'Grandmaster': 900, 'Challenger': 450}  "
      ]
     },
     "execution_count": 47,
     "metadata": {},
     "output_type": "execute_result"
    }
   ],
   "source": [
    "pd.set_option('display.max_colwidth', 300)\n",
    "pd.set_option('display.max_columns', None)\n",
    "\n",
    "categorical_df = raw_tft_df.select_dtypes(include=['object', 'bool'])\n",
    "col_names = categorical_df.columns\n",
    "titles = [\"missing_ratio\", \"num_values\", \"value_ratios\"]\n",
    "values_list = []\n",
    "\n",
    "for col in col_names:\n",
    "    size = len(categorical_df)\n",
    "    missing_ratio = categorical_df[col].isnull().sum()\n",
    "    num_values = categorical_df[col].nunique()\n",
    "    value_nums = categorical_df[col].value_counts().to_dict()\n",
    "    value_nums = {k: v for k, v in sorted(value_nums.items(), key=lambda item: item[1], reverse=True)}\n",
    "    values_list.append([missing_ratio, num_values, value_nums])\n",
    "\n",
    "data = {col_names[i]: values_list[i] for i in range(len(col_names))}\n",
    "data['Titles'] = titles\n",
    "cat_col_info_df = pd.DataFrame(data).set_index('Titles')\n",
    "cat_col_info_df"
   ]
  },
  {
   "cell_type": "markdown",
   "metadata": {},
   "source": [
    "## 3. Save the processed data"
   ]
  },
  {
   "cell_type": "code",
   "execution_count": 48,
   "metadata": {},
   "outputs": [],
   "source": [
    "save_name = 'Group25_TFT_processed.csv'\n",
    "raw_tft_df.to_csv(f'../data/processed/{save_name}', index=False)"
   ]
  }
 ],
 "metadata": {
  "kernelspec": {
   "display_name": "base",
   "language": "python",
   "name": "python3"
  },
  "language_info": {
   "codemirror_mode": {
    "name": "ipython",
    "version": 3
   },
   "file_extension": ".py",
   "mimetype": "text/x-python",
   "name": "python",
   "nbconvert_exporter": "python",
   "pygments_lexer": "ipython3",
   "version": "3.11.6"
  }
 },
 "nbformat": 4,
 "nbformat_minor": 2
}
